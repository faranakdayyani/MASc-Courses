{
  "nbformat": 4,
  "nbformat_minor": 0,
  "metadata": {
    "colab": {
      "name": "ECE421-Assignment1-Part2.ipynb",
      "provenance": [],
      "collapsed_sections": []
    },
    "kernelspec": {
      "name": "python3",
      "display_name": "Python 3"
    },
    "language_info": {
      "name": "python"
    }
  },
  "cells": [
    {
      "cell_type": "code",
      "execution_count": 1,
      "metadata": {
        "colab": {
          "resources": {
            "http://localhost:8080/nbextensions/google.colab/files.js": {
              "data": "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",
              "ok": true,
              "headers": [
                [
                  "content-type",
                  "application/javascript"
                ]
              ],
              "status": 200,
              "status_text": "OK"
            }
          },
          "base_uri": "https://localhost:8080/",
          "height": 131
        },
        "id": "XXXH8Ip0n_ek",
        "outputId": "a174dafe-4ec2-4eb7-e70e-6eb4ec980688"
      },
      "outputs": [
        {
          "output_type": "stream",
          "name": "stdout",
          "text": [
            "TensorFlow 1.x selected.\n",
            "TensorFlow version of this code is: 1.15.2\n"
          ]
        },
        {
          "output_type": "display_data",
          "data": {
            "text/html": [
              "\n",
              "     <input type=\"file\" id=\"files-19c00aa0-1dc1-4cf2-96e9-d9f98c5b5c23\" name=\"files[]\" multiple disabled\n",
              "        style=\"border:none\" />\n",
              "     <output id=\"result-19c00aa0-1dc1-4cf2-96e9-d9f98c5b5c23\">\n",
              "      Upload widget is only available when the cell has been executed in the\n",
              "      current browser session. Please rerun this cell to enable.\n",
              "      </output>\n",
              "      <script src=\"/nbextensions/google.colab/files.js\"></script> "
            ],
            "text/plain": [
              "<IPython.core.display.HTML object>"
            ]
          },
          "metadata": {}
        },
        {
          "output_type": "stream",
          "name": "stdout",
          "text": [
            "Saving notMNIST.npz to notMNIST (2).npz\n",
            "User uploaded file \"notMNIST.npz\" with length 14698714 bytes\n"
          ]
        }
      ],
      "source": [
        "%tensorflow_version 1.x\n",
        "import tensorflow as tf\n",
        "print(\"TensorFlow version of this code is:\",tf.__version__)\n",
        "\n",
        "#  ------------------- Importing libraries ------------------\n",
        "import numpy as np\n",
        "import matplotlib.pyplot as plt\n",
        "\n",
        "# -------- the code below is for uploading the notMNIST.npz file to the code --------\n",
        "from google.colab import files\n",
        "uploaded = files.upload()\n",
        "for fn in uploaded.keys():\n",
        "  print('User uploaded file \"{name}\" with length {length} bytes'.format(\n",
        "      name=fn, length=len(uploaded[fn])))"
      ]
    },
    {
      "cell_type": "code",
      "source": [
        "# ----------- the code below is for loading the dataset ----------------------------\n",
        "def loadData():\n",
        "    with np.load('notMNIST.npz') as dataset:\n",
        "        Data, Target = dataset['images'], dataset['labels']\n",
        "        posClass = 2\n",
        "        negClass = 9\n",
        "        dataIndx = (Target==posClass) + (Target==negClass)\n",
        "        Data = Data[dataIndx]/255.\n",
        "        Target = Target[dataIndx].reshape(-1, 1)\n",
        "        Target[Target==posClass] = 1\n",
        "        Target[Target==negClass] = 0\n",
        "        np.random.seed(421)\n",
        "        randIndx = np.arange(len(Data))\n",
        "        np.random.shuffle(randIndx)\n",
        "        Data, Target = Data[randIndx], Target[randIndx]\n",
        "        trainData, trainTarget = Data[:3500], Target[:3500]\n",
        "        validData, validTarget = Data[3500:3600], Target[3500:3600]\n",
        "        testData, testTarget = Data[3600:], Target[3600:]\n",
        "    return trainData, validData, testData, trainTarget, validTarget, testTarget"
      ],
      "metadata": {
        "id": "wSahyMblrc0d"
      },
      "execution_count": 2,
      "outputs": []
    },
    {
      "cell_type": "code",
      "source": [
        "def buildGraph(xdata, ydata, alpha, ADAM, beta_1=0.9, beta_2=0.999, epsilon=1e-08):\n",
        "  global loss\n",
        "  tf.set_random_seed(20)\n",
        "  xdata_d = xdata.shape[1]\n",
        "\n",
        "  # --------- Question 1 - Part a -------------------    \n",
        "  #inializing weight and bias tensors\n",
        "  w = tf.truncated_normal_initializer(mean=0, stddev=0.5)\n",
        "  w = tf.get_variable(\"w\", (xdata_d, 1), initializer=w)\n",
        "  b = tf.constant_initializer(0.0)\n",
        "  b = tf.get_variable(\"b\", (1, ), initializer=b)\n",
        "\n",
        "  # --------- Question 1 - Part b -------------------    \n",
        "  # placeholders for data, label and reg\n",
        "  x = tf.placeholder(tf.float32, shape=(None, xdata_d))\n",
        "  y = tf.placeholder(tf.float32, shape=(None, 1))\n",
        "  reg = tf.placeholder(tf.float32)\n",
        "\n",
        "  # --------- Question 1 - Part c -------------------    \n",
        "  # Loss function\n",
        "  z = tf.add(tf.matmul(x, w), b)\n",
        "  y_hat = tf.nn.sigmoid(z, name=\"y_hat\")\n",
        "  LCE = tf.nn.sigmoid_cross_entropy_with_logits(labels=y, logits=z)\n",
        "  LCE = tf.reduce_mean(LCE) #cross entropy loss\n",
        "  LW = (reg/2) * tf.reduce_sum(tf.square(w)) #regularizaton term loss\n",
        "  loss = tf.add(LCE, LW) #total loss\n",
        "  \n",
        "  # --------- Question 1 - Part d -------------------    \n",
        "  # optimizer\n",
        "  if ADAM==True:\n",
        "    optimizer = tf.train.AdamOptimizer(alpha, beta_1, beta_2, epsilon).minimize(loss)\n",
        "  else:\n",
        "    optimizer = tf.train.GradientDescentOptimizer(alpha).minimize(loss)\n",
        "\n",
        "  return x, w, b, y_hat, y, loss, optimizer, reg"
      ],
      "metadata": {
        "id": "OrMfbXyltHMk"
      },
      "execution_count": 3,
      "outputs": []
    },
    {
      "cell_type": "code",
      "source": [
        "def lossValue(w, b, x, y, reg):\n",
        "  z = (np.dot(x,w)) + b \n",
        "  y_hat_2 = 1/(1 + np.exp(-z))\n",
        "  LCE_value = ((-1*y)*(np.log(y_hat_2))) - ((1 - y)*np.log(1- y_hat_2))\n",
        "  LCE_value = np.mean(LCE_value) #cross entropy loss value\n",
        "\n",
        "  w_norm = np.linalg.norm(w)  #takes the norm L2\n",
        "  LW_value = (reg/2)*((w_norm)**2) #regularization loss\n",
        "  L_value = LCE_value + LW_value # total loss\n",
        "    \n",
        "  return  y_hat_2 , L_value"
      ],
      "metadata": {
        "id": "g1S2kVgJ2LWB"
      },
      "execution_count": 4,
      "outputs": []
    },
    {
      "cell_type": "code",
      "source": [
        "def AccValue(w, b, x, y, reg):\n",
        "  global trainData, validData, trainTarget, validTarget, testData, testTarget\n",
        "  # loss data calculation for training and validation data and test data\n",
        "  y_hat_train, L_train = lossValue(w, b, trainData, trainTarget, reg)\n",
        "  y_hat_valid, L_valid = lossValue(w, b, validData, validTarget, reg)\n",
        "  y_hat_test, L_test = lossValue(w, b, testData, testTarget, reg)\n",
        "\n",
        "  # accuracy data calculation for training and validation data and test data\n",
        "  y_hat_train[y_hat_train >= 0.5] = 1\n",
        "  y_hat_train[y_hat_train < 0.5] = 0\n",
        "  A_train = np.mean(y_hat_train == trainTarget)\n",
        "  A_train = A_train*100\n",
        "\n",
        "  y_hat_valid[y_hat_valid >= 0.5] = 1\n",
        "  y_hat_valid[y_hat_valid < 0.5] = 0\n",
        "  A_valid = np.mean(y_hat_valid == validTarget)\n",
        "  A_valid = A_valid*100\n",
        "\n",
        "  y_hat_test[y_hat_test >= 0.5] = 1\n",
        "  y_hat_test[y_hat_test < 0.5] = 0\n",
        "  A_test = np.mean(y_hat_test == testTarget)\n",
        "  A_test = A_test*100\n",
        "\n",
        "  return L_train, L_valid, A_train, A_valid, L_test, A_test\n"
      ],
      "metadata": {
        "id": "-XJqHp8i5jto"
      },
      "execution_count": 5,
      "outputs": []
    },
    {
      "cell_type": "code",
      "source": [
        "def SGD(batch_size, epochs, alpha, reg_2, ADAM, beta_1=0.9, beta_2=0.999, epsilon=1e-08):\n",
        "  global trainData, validData, trainTarget, validTarget, testData, testTarget, loss_2, loss\n",
        "\n",
        "  N = trainData.shape[0]\n",
        "  total_batches = int(N/batch_size)\n",
        "  iterations = total_batches * epochs\n",
        "\n",
        "  x, w, b, y_hat, y, loss, optimizer, reg = buildGraph(trainData,trainTarget, alpha, ADAM, beta_1, beta_2, epsilon)\n",
        "\n",
        "  global_init = tf.global_variables_initializer()\n",
        "  L_train = []\n",
        "  L_valid = []\n",
        "  A_train = []\n",
        "  A_valid = []\n",
        "  L_test = []\n",
        "  A_test = []\n",
        "\n",
        "  with tf.Session() as sess:\n",
        "    sess.run(global_init)\n",
        "    for i in range(iterations):\n",
        "      if (i+1)%total_batches == 0:\n",
        "        shuffle_index = np.random.choice(N, N, replace=False)\n",
        "        trainData, trainTarget = trainData[shuffle_index], trainTarget[shuffle_index]\n",
        "      trainBatch, ybatch = trainData[:batch_size], trainTarget[:batch_size]\n",
        "\n",
        "      _, w_2, b_2, loss_2 = sess.run([optimizer, w, b, loss], feed_dict={x:trainBatch, y:ybatch, reg:reg_2})\n",
        "      trainData = np.roll(trainData, batch_size, axis=0)\n",
        "      trainTarget = np.roll(trainTarget, batch_size, axis=0)\n",
        "\n",
        "      if (i+1)%total_batches == 0:\n",
        "        L_train_2, L_valid_2, A_train_2, A_valid_2, L_test_2, A_test_2 = AccValue(w_2, b_2, trainData, trainTarget, reg_2)\n",
        "        L_train.append(L_train_2)\n",
        "        L_valid.append(L_valid_2)\n",
        "        A_train.append(A_train_2)\n",
        "        A_valid.append(A_valid_2)\n",
        "        L_test.append(L_test_2)\n",
        "        A_test.append(A_test_2)\n",
        "\n",
        "    w_updated, b_updated = sess.run([w, b])\n",
        "\n",
        "  return w_updated, b_updated, L_train, L_valid, A_train, A_valid, L_test, A_test"
      ],
      "metadata": {
        "id": "Dk8A52qM8LU5"
      },
      "execution_count": 6,
      "outputs": []
    },
    {
      "cell_type": "code",
      "source": [
        "def SGDgraph():\n",
        "    w, b, L_train, L_valid, A_train, A_valid, L_test, A_test = SGD(batch_size=500, epochs=700, alpha=0.001, reg_2=0, ADAM=False)\n",
        "    epochs=700\n",
        "    print(\"Training Loss:  \", L_train[-1])\n",
        "    print(\"Validation Loss:\", L_valid[-1])\n",
        "    print(\"Training Accuracy:  \", A_train[-1])\n",
        "    print(\"Validation Accuracy:\", A_valid[-1])\n",
        "    print(\"Testing Loss:  \", L_test[-1])\n",
        "    print(\"Testing Accuracy:\", A_test[-1])\n",
        "\n",
        "    xaxis = np.linspace(0, epochs, num=epochs)\n",
        "    plt.plot(xaxis, L_train)\n",
        "    plt.plot(xaxis, L_valid)\n",
        "    plt.xlabel('Epochs')\n",
        "    plt.ylabel('Loss')\n",
        "    plt.title('Loss vs. Number of Epochs')\n",
        "    plt.legend(['trainData','validData'])\n",
        "    plt.grid()\n",
        "    plt.show()\n",
        "\n",
        "    plt.plot(xaxis, A_train)\n",
        "    plt.plot(xaxis,A_valid)\n",
        "    plt.xlabel('Epochs')\n",
        "    plt.ylabel('Accuracy (%)')\n",
        "    plt.title('Accuracy vs. Number of Epochs')\n",
        "    plt.legend(['trainData','validData'])\n",
        "    plt.grid()\n",
        "    plt.show()\n",
        "\n"
      ],
      "metadata": {
        "id": "XDsA46xGCqQr"
      },
      "execution_count": 7,
      "outputs": []
    },
    {
      "cell_type": "code",
      "source": [
        "def BatchSizeInvestigation():\n",
        "  batchSizeInv = 1750 # Options: 100; 700; 1750\n",
        "  epochs=700\n",
        "  _, _, L_train, L_valid, A_train, A_valid, L_test, A_test = SGD(batch_size=1750, epochs=700, alpha=0.001, reg_2=0, ADAM=True)\n",
        "\n",
        "  print(\"Batch size = \",batchSizeInv)\n",
        "  print(\"Training Loss:  \", L_train[-1])\n",
        "  print(\"Validation Loss:\", L_valid[-1])\n",
        "  print(\"Testing Loss:  \", L_test[-1])\n",
        "  print(\"Training Accuracy:  \", A_train[-1])\n",
        "  print(\"Validation Accuracy:\", A_valid[-1])\n",
        "  print(\"Testing Accuracy:\", A_test[-1])\n",
        "\n",
        "  xaxis = np.linspace(0, epochs, num=epochs)\n",
        "  plt.plot(xaxis, L_train)\n",
        "  plt.plot(xaxis, L_valid)\n",
        "  plt.xlabel('Epochs')\n",
        "  plt.ylabel('Loss')\n",
        "  plt.title('Loss vs. Number of Epochs, batch size = 1750')\n",
        "  plt.legend(['trainData','validData'])\n",
        "  plt.grid()\n",
        "  plt.show()\n",
        "\n",
        "  plt.plot(xaxis, A_train)\n",
        "  plt.plot(xaxis,A_valid)\n",
        "  plt.xlabel('Epochs')\n",
        "  plt.ylabel('Accuracy (%)')\n",
        "  plt.title('Accuracy vs. Number of Epochs, batch size = 1750')\n",
        "  plt.legend(['trainData','validData'])\n",
        "  plt.grid()\n",
        "  plt.show()\n",
        "\n"
      ],
      "metadata": {
        "id": "jAtDVIdVptvQ"
      },
      "execution_count": 8,
      "outputs": []
    },
    {
      "cell_type": "code",
      "source": [
        "def HyperparameterInvestigation():\n",
        "  #beta1 = 0.99 # Options: 0.95; 0.99\n",
        "  #beta2 = 0.9999 # Options: 0.99; 0.9999\n",
        "  epsilon2 = 1e-4 # Options: 1e-09; 1e-4\n",
        "  epochs=700\n",
        "\n",
        "  _, _, L_train, L_valid, A_train, A_valid, L_test, A_test = SGD(batch_size=500, epochs=700, alpha=0.001, reg_2=0, ADAM=True, epsilon=1e-4)\n",
        "\n",
        "  #print(\"Beta_1 = \",beta1)\n",
        "  #print(\"Beta_2 = \",beta2)\n",
        "  print(\"epsilon = \",epsilon2)\n",
        "\n",
        "  print(\"Training Loss:  \", L_train[-1])\n",
        "  print(\"Validation Loss:\", L_valid[-1])\n",
        "  print(\"Training Accuracy:  \", A_train[-1])\n",
        "  print(\"Validation Accuracy:\", A_valid[-1])\n",
        "  print(\"Testing Loss:  \", L_test[-1])\n",
        "  print(\"Testing Accuracy:\", A_test[-1])\n",
        "\n",
        "  xaxis = np.linspace(0, epochs, num=epochs)\n",
        "  plt.plot(xaxis, L_train)\n",
        "  plt.plot(xaxis, L_valid)\n",
        "  plt.xlabel('Epochs')\n",
        "  plt.ylabel('Loss')\n",
        "  plt.title('Loss vs. Number of Epochs, epsilon = 1e-4')\n",
        "  plt.legend(['trainData','validData'])\n",
        "  plt.grid()\n",
        "  plt.show()\n",
        "\n",
        "  plt.plot(xaxis, A_train)\n",
        "  plt.plot(xaxis,A_valid)\n",
        "  plt.xlabel('Epochs')\n",
        "  plt.ylabel('Accuracy (%)')\n",
        "  plt.title('Accuracy vs. Number of Epochs, epsilon = 1e-4')\n",
        "  plt.legend(['trainData','validData'])\n",
        "  plt.grid()\n",
        "  plt.show()\n",
        "\n"
      ],
      "metadata": {
        "id": "6vj6Zr7AtoyE"
      },
      "execution_count": 9,
      "outputs": []
    },
    {
      "cell_type": "code",
      "source": [
        "def ComparisonAgainstBatchGD():\n",
        "  epochs=5000\n",
        "  _, _, L_train, L_valid, A_train, A_valid, L_test, A_test = SGD(batch_size=3500, epochs=5000, alpha=0.001, reg_2=0, ADAM=True)\n",
        "\n",
        "  print(\"Training Loss:  \", L_train[-1])\n",
        "  print(\"Validation Loss:\", L_valid[-1])\n",
        "  print(\"Training Accuracy:  \", A_train[-1])\n",
        "  print(\"Validation Accuracy:\", A_valid[-1])\n",
        "  print(\"Testing Loss:  \", L_test[-1])\n",
        "  print(\"Testing Accuracy:\", A_test[-1])\n",
        "\n",
        "  xaxis = np.linspace(0, epochs, num=epochs)\n",
        "  plt.plot(xaxis, L_train)\n",
        "  plt.plot(xaxis, L_valid)\n",
        "  plt.xlabel('Epochs')\n",
        "  plt.ylabel('Loss')\n",
        "  plt.title('Loss for ADAM - epochs = 5000, alpha = 0.001, reg = 0')\n",
        "  plt.legend(['trainData','validData'])\n",
        "  plt.grid()\n",
        "  plt.show()\n",
        "\n",
        "  plt.plot(xaxis, A_train)\n",
        "  plt.plot(xaxis,A_valid)\n",
        "  plt.xlabel('Epochs')\n",
        "  plt.ylabel('Accuracy (%)')\n",
        "  plt.title('Accuracy for ADAM - epochs = 5000, alpha = 0.001, reg = 0')\n",
        "  plt.legend(['trainData','validData'])\n",
        "  plt.grid()\n",
        "  plt.show()"
      ],
      "metadata": {
        "id": "bmSYHZaFjn96"
      },
      "execution_count": 10,
      "outputs": []
    },
    {
      "cell_type": "code",
      "source": [
        "if __name__ == \"__main__\":\n",
        "  trainData, validData, testData, trainTarget, validTarget, testTarget = loadData()\n",
        "  trainData = trainData.reshape(np.shape(trainData)[0],-1)\n",
        "  validData = validData.reshape(np.shape(validData)[0],-1)\n",
        "  testData = testData.reshape(np.shape(testData)[0],-1)\n",
        "\n",
        "  #SGDgraph()\n",
        "  #BatchSizeInvestigation()\n",
        "  #HyperparameterInvestigation()\n",
        "  ComparisonAgainstBatchGD()\n"
      ],
      "metadata": {
        "id": "Lm9O0Wiordki",
        "colab": {
          "base_uri": "https://localhost:8080/",
          "height": 761
        },
        "outputId": "8af7f443-2bac-4ff8-d9b3-8a0b6aa20540"
      },
      "execution_count": 11,
      "outputs": [
        {
          "output_type": "stream",
          "name": "stdout",
          "text": [
            "WARNING:tensorflow:From /tensorflow-1.15.2/python3.7/tensorflow_core/python/ops/nn_impl.py:183: where (from tensorflow.python.ops.array_ops) is deprecated and will be removed in a future version.\n",
            "Instructions for updating:\n",
            "Use tf.where in 2.0, which has the same broadcast rule as np.where\n",
            "Training Loss:   0.0121416968955992\n",
            "Validation Loss: 0.10293358839912772\n",
            "Training Accuracy:   99.62857142857143\n",
            "Validation Accuracy: 97.0\n",
            "Testing Loss:   0.157185817374578\n",
            "Testing Accuracy: 97.93103448275862\n"
          ]
        },
        {
          "output_type": "display_data",
          "data": {
            "image/png": "[encoded data removed]",
            "text/plain": [
              "<Figure size 432x288 with 1 Axes>"
            ]
          },
          "metadata": {
            "needs_background": "light"
          }
        },
        {
          "output_type": "display_data",
          "data": {
            "image/png": "[encoded data removed]",
            "text/plain": [
              "<Figure size 432x288 with 1 Axes>"
            ]
          },
          "metadata": {
            "needs_background": "light"
          }
        }
      ]
    }
  ]
}