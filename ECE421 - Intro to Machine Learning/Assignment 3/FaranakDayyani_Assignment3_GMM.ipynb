{
  "nbformat": 4,
  "nbformat_minor": 0,
  "metadata": {
    "colab": {
      "name": "ECE421-Assignment3-GMM.ipynb",
      "provenance": [],
      "collapsed_sections": []
    },
    "kernelspec": {
      "name": "python3",
      "display_name": "Python 3"
    },
    "language_info": {
      "name": "python"
    }
  },
  "cells": [
    {
      "cell_type": "code",
      "execution_count": null,
      "metadata": {
        "colab": {
          "resources": {
            "http://localhost:8080/nbextensions/google.colab/files.js": {
              "data": "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",
              "ok": true,
              "headers": [
                [
                  "content-type",
                  "application/javascript"
                ]
              ],
              "status": 200,
              "status_text": "OK"
            }
          },
          "base_uri": "https://localhost:8080/",
          "height": 129
        },
        "id": "7RYvO6wJsL7c",
        "outputId": "be168a3b-449f-4031-8fa0-4fb08decbc0d"
      },
      "outputs": [
        {
          "output_type": "stream",
          "name": "stdout",
          "text": [
            "TensorFlow 1.x selected.\n",
            "TensorFlow version of this code is: 1.15.2\n"
          ]
        },
        {
          "output_type": "display_data",
          "data": {
            "text/plain": [
              "<IPython.core.display.HTML object>"
            ],
            "text/html": [
              "\n",
              "     <input type=\"file\" id=\"files-c7be0042-2911-4181-b9f3-36fc36b38198\" name=\"files[]\" multiple disabled\n",
              "        style=\"border:none\" />\n",
              "     <output id=\"result-c7be0042-2911-4181-b9f3-36fc36b38198\">\n",
              "      Upload widget is only available when the cell has been executed in the\n",
              "      current browser session. Please rerun this cell to enable.\n",
              "      </output>\n",
              "      <script src=\"/nbextensions/google.colab/files.js\"></script> "
            ]
          },
          "metadata": {}
        },
        {
          "output_type": "stream",
          "name": "stdout",
          "text": [
            "Saving data100D.npy to data100D.npy\n",
            "User uploaded file \"data100D.npy\" with length 4000080 bytes\n"
          ]
        }
      ],
      "source": [
        "%tensorflow_version 1.x\n",
        "import tensorflow as tf\n",
        "print(\"TensorFlow version of this code is:\",tf.__version__)\n",
        "\n",
        "#  ------------------- Importing libraries ------------------\n",
        "import numpy as np\n",
        "import matplotlib.pyplot as plt\n",
        "\n",
        "# -------- the code below is for uploading the data2D.npy or data100D.npy file to the code --------\n",
        "from google.colab import files\n",
        "uploaded = files.upload()\n",
        "for fn in uploaded.keys():\n",
        "  print('User uploaded file \"{name}\" with length {length} bytes'.format(\n",
        "      name=fn, length=len(uploaded[fn])))"
      ]
    },
    {
      "cell_type": "code",
      "source": [
        "\n",
        "# -------- the code below is for uploading the helper.py file to the code --------\n",
        "from google.colab import files\n",
        "uploaded = files.upload()\n",
        "for fn in uploaded.keys():\n",
        "  print('User uploaded file \"{name}\" with length {length} bytes'.format(\n",
        "      name=fn, length=len(uploaded[fn])))"
      ],
      "metadata": {
        "colab": {
          "resources": {
            "http://localhost:8080/nbextensions/google.colab/files.js": {
              "data": "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",
              "ok": true,
              "headers": [
                [
                  "content-type",
                  "application/javascript"
                ]
              ],
              "status": 200,
              "status_text": "OK"
            }
          },
          "base_uri": "https://localhost:8080/",
          "height": 92
        },
        "id": "Rypf3-6Fx1B8",
        "outputId": "db98564b-14b6-4219-9084-2ce0907ba50d"
      },
      "execution_count": null,
      "outputs": [
        {
          "output_type": "display_data",
          "data": {
            "text/plain": [
              "<IPython.core.display.HTML object>"
            ],
            "text/html": [
              "\n",
              "     <input type=\"file\" id=\"files-322d4009-59a9-402b-b772-d5fc860e7dc6\" name=\"files[]\" multiple disabled\n",
              "        style=\"border:none\" />\n",
              "     <output id=\"result-322d4009-59a9-402b-b772-d5fc860e7dc6\">\n",
              "      Upload widget is only available when the cell has been executed in the\n",
              "      current browser session. Please rerun this cell to enable.\n",
              "      </output>\n",
              "      <script src=\"/nbextensions/google.colab/files.js\"></script> "
            ]
          },
          "metadata": {}
        },
        {
          "output_type": "stream",
          "name": "stdout",
          "text": [
            "Saving helper.py to helper (1).py\n",
            "User uploaded file \"helper.py\" with length 1289 bytes\n"
          ]
        }
      ]
    },
    {
      "cell_type": "code",
      "source": [
        "import tensorflow as tf\n",
        "import numpy as np\n",
        "import matplotlib.pyplot as plt\n",
        "import helper as hlp"
      ],
      "metadata": {
        "id": "xJ_vW3bex4jp"
      },
      "execution_count": null,
      "outputs": []
    },
    {
      "cell_type": "code",
      "source": [
        "def distance_func(X, mu):\n",
        "    \"\"\" Inputs:\n",
        "            X: is an NxD matrix (N observations and D dimensions)\n",
        "            mu: is an KxD matrix (K means and D dimensions)\n",
        "        Outputs\n",
        "            pair_dist: is the pairwise distance matrix (NxK)\n",
        "    \"\"\"\n",
        "    global x_dummy, mu_dummy\n",
        "\n",
        "    x_dummy = tf.expand_dims(x, 1)\n",
        "    mu_dummy = tf.expand_dims(mu, 0)\n",
        "    pair_dist = tf.reduce_sum(tf.square(tf.subtract(x_dummy, mu_dummy)),2)\n",
        "    \n",
        "    return pair_dist\n"
      ],
      "metadata": {
        "id": "2e7foULrydhl"
      },
      "execution_count": null,
      "outputs": []
    },
    {
      "cell_type": "code",
      "source": [
        "def log_gauss_pdf(X, mu, sigma):\n",
        "    \"\"\" Inputs: \n",
        "            X: N X D\n",
        "            mu: K X D\n",
        "            sigma: K X 1\n",
        "\n",
        "        Outputs:\n",
        "            log Gaussian PDF (N X K)\n",
        "    \"\"\"\n",
        "    X_rank = tf.rank(X)\n",
        "    d = tf.to_float(X_rank)\n",
        "    sigma2 = tf.squeeze(sigma)\n",
        "    dist = distance_func(X, mu)\n",
        "    part1 = dist/(2*sigma2)\n",
        "    part2 = tf.log(2 * np.pi * sigma2)\n",
        "    part3 = -0.5 * d * part2\n",
        "    log_PDF = part3 - part1\n",
        "    \n",
        "    return log_PDF"
      ],
      "metadata": {
        "id": "BpImM00QyhEk"
      },
      "execution_count": null,
      "outputs": []
    },
    {
      "cell_type": "code",
      "source": [
        "def log_posterior(log_PDF, log_pi):\n",
        "    \"\"\" Inputs:\n",
        "            log_PDF: log Gaussian PDF N X K\n",
        "            log_pi: K X 1\n",
        "\n",
        "        Outputs\n",
        "            log_post: N X K\n",
        "    \"\"\"\n",
        "    log_pi = tf.squeeze(log_pi)\n",
        "    log_probability = tf.add(log_pi, log_PDF)\n",
        "    log_sum = hlp.reduce_logsumexp(log_probability, keep_dims=True)\n",
        "\n",
        "    result = log_probability - log_sum\n",
        "    \n",
        "    return result\n",
        "    "
      ],
      "metadata": {
        "id": "G_EuqrpSyi6o"
      },
      "execution_count": null,
      "outputs": []
    },
    {
      "cell_type": "code",
      "source": [
        "def MoG(x, mu, K, sigma, pi, log_pi, is_valid, data, iteration, option=0):\n",
        "\n",
        "  global iter_mu, iter_log_pi, iter_sigma\n",
        "  [num_pts, dim] = np.shape(data)\n",
        "\n",
        "  if is_valid:\n",
        "    valid_batch = int(num_pts / 3.0)\n",
        "    np.random.seed(45689)\n",
        "    rnd_idx = np.arange(num_pts)\n",
        "    np.random.shuffle(rnd_idx)\n",
        "    val_data = data[rnd_idx[:valid_batch]]\n",
        "    data = data[rnd_idx[valid_batch:]]\n",
        "    valid_losses = []\n",
        "\n",
        "  losses = []\n",
        "\n",
        "  log_PDF = log_gauss_pdf(x, mu, sigma)\n",
        "  loss = - tf.reduce_sum(hlp.reduce_logsumexp(log_PDF + log_pi, 1, keep_dims=True))\n",
        "  optimizer = tf.train.AdamOptimizer(learning_rate=0.1).minimize(loss)\n",
        "\n",
        "  prediction = tf.argmax(tf.nn.softmax(log_posterior(log_PDF, log_pi)),1)\n",
        "\n",
        "  tf_init = tf.global_variables_initializer()\n",
        "  sess = tf.Session()\n",
        "  sess.run(tf_init)\n",
        "\n",
        "\n",
        "  for iter in range(iteration):\n",
        "    iter_mu, iter_loss, _, iter_pred, iter_log_pi, iter_sigma = sess.run([mu, loss, optimizer, prediction, log_pi, sigma], feed_dict={x:data})\n",
        "    losses.append(iter_loss)\n",
        "\n",
        "    if is_valid:\n",
        "      iter_mu_valid, iter_loss_valid, _, _ = sess.run([mu, loss, optimizer, prediction], feed_dict={x:val_data})\n",
        "      valid_losses.append(iter_loss_valid)\n",
        "        \n",
        "    if iter%100 == 0:\n",
        "      print(\"K = \", K, \", Update #:\", iter, \"Loss value:\", iter_loss)\n",
        "\n",
        "  trainPercent = np.zeros(K)\n",
        "\n",
        "  for i in range(K):\n",
        "    trainPercent[i]=np.sum(np.equal(i, iter_pred))*100.0/len(iter_pred)\n",
        "\n",
        "  if option==1:\n",
        "    x1 = range(len(losses))\n",
        "    y1 = losses\n",
        "    plt.plot(x1,y1, label=\"Loss\")\n",
        "    plt.legend(loc=\"best\")\n",
        "    plt.title('Loss vs. Number of updates')\n",
        "    plt.xlabel('Number of updates')\n",
        "    plt.ylabel('Loss')\n",
        "    plt.grid()\n",
        "    plt.show()\n",
        "\n",
        "  if option==2:\n",
        "    k1 = len(iter_mu)\n",
        "        \n",
        "    for i in range(K):\n",
        "\n",
        "      x4 = data[iter_pred == i, 0]\n",
        "      y4 = data[iter_pred == i, 1]\n",
        "      round_trainpercent = str(np.round_(trainPercent[i],decimals=2))+'%'\n",
        "      plt.scatter(x4, y4, label=round_trainpercent)\n",
        "\n",
        "    x5 = iter_mu[:, 0]\n",
        "    y5 = iter_mu[:, 1]\n",
        "    plt.scatter(x5, y5, marker='*', c=\"black\")\n",
        "    plt.legend(loc='upper center', bbox_to_anchor = (0.5,1.12), fancybox=True, ncol=K)\n",
        "    plt.xlabel('X')\n",
        "    plt.ylabel('Y')\n",
        "    plt.title('K = '+str(K)+', Validation Loss = '+str(valid_losses[-1]), y=-0.23)\n",
        "    plt.grid()\n",
        "    plt.show()\n",
        "  \n",
        "  if option==3:\n",
        "    plt.figure(1)\n",
        "\n",
        "  #return losses\n",
        "  return valid_losses\n",
        "\n"
      ],
      "metadata": {
        "id": "2TSn2MSZHymA"
      },
      "execution_count": null,
      "outputs": []
    },
    {
      "cell_type": "code",
      "source": [
        "if __name__ == \"__main__\":\n",
        "\n",
        "      # Loading data\n",
        "      #data = np.load('data2D.npy')\n",
        "      data = np.load('data100D.npy')\n",
        "\n",
        "      [N, D] = np.shape(data)\n",
        "      \n",
        "      # part 2.2.1:\n",
        "      K = 3\n",
        "      x = tf.placeholder(\"float\", shape=[None, D])\n",
        "      mu = tf.Variable(tf.truncated_normal([K,D]))\n",
        "      sigma = tf.exp(tf.Variable(tf.random_normal([K, 1])))\n",
        "      pi = tf.Variable(tf.random_normal([K, 1]))              \n",
        "      log_pi = tf.squeeze(hlp.logsoftmax(pi)) \n",
        "      MoG(x, mu, K, sigma, pi, log_pi, False, data, 250, 1) \n",
        "      \n",
        "      # part 2.2.2:\n",
        "      K = 1\n",
        "      x = tf.placeholder(\"float\", shape=[None, D])\n",
        "      mu = tf.Variable(tf.truncated_normal([K,D]))\n",
        "      sigma = tf.exp(tf.Variable(tf.random_normal([K, 1])))\n",
        "      pi = tf.Variable(tf.random_normal([K, 1]))              \n",
        "      log_pi = tf.squeeze(hlp.logsoftmax(pi)) \n",
        "      MoG(x, mu, K, sigma, pi, log_pi, True, data, 250, 2) \n",
        "      \n",
        "      K = 2\n",
        "      x = tf.placeholder(\"float\", shape=[None, D])\n",
        "      mu = tf.Variable(tf.truncated_normal([K,D]))\n",
        "      sigma = tf.exp(tf.Variable(tf.random_normal([K, 1])))\n",
        "      pi = tf.Variable(tf.random_normal([K, 1]))              \n",
        "      log_pi = tf.squeeze(hlp.logsoftmax(pi)) \n",
        "      MoG(x, mu, K, sigma, pi, log_pi, True, data, 250, 2) \n",
        "      \n",
        "      K = 3\n",
        "      x = tf.placeholder(\"float\", shape=[None, D])\n",
        "      mu = tf.Variable(tf.truncated_normal([K,D]))\n",
        "      sigma = tf.exp(tf.Variable(tf.random_normal([K, 1])))\n",
        "      pi = tf.Variable(tf.random_normal([K, 1]))              \n",
        "      log_pi = tf.squeeze(hlp.logsoftmax(pi)) \n",
        "      MoG(x, mu, K, sigma, pi, log_pi, True, data, 250, 2)\n",
        "      \n",
        "      K = 4\n",
        "      x = tf.placeholder(\"float\", shape=[None, D])\n",
        "      mu = tf.Variable(tf.truncated_normal([K,D]))\n",
        "      sigma = tf.exp(tf.Variable(tf.random_normal([K, 1])))\n",
        "      pi = tf.Variable(tf.random_normal([K, 1]))              \n",
        "      log_pi = tf.squeeze(hlp.logsoftmax(pi)) \n",
        "      MoG(x, mu, K, sigma, pi, log_pi, True, data, 250, 2)\n",
        "      \n",
        "      K = 5\n",
        "      x = tf.placeholder(\"float\", shape=[None, D])\n",
        "      mu = tf.Variable(tf.truncated_normal([K,D]))\n",
        "      sigma = tf.exp(tf.Variable(tf.random_normal([K, 1])))\n",
        "      pi = tf.Variable(tf.random_normal([K, 1]))              \n",
        "      log_pi = tf.squeeze(hlp.logsoftmax(pi)) \n",
        "      MoG(x, mu, K, sigma, pi, log_pi, True, data, 250, 2)\n",
        "      \n",
        "      # part 2.2.3 (MoG):\n",
        "      K5 = 5\n",
        "      x = tf.placeholder(\"float\", shape=[None, D])\n",
        "      mu = tf.Variable(tf.truncated_normal([K5,D]))\n",
        "      sigma = tf.exp(tf.Variable(tf.random_normal([K5, 1])))\n",
        "      pi = tf.Variable(tf.random_normal([K5, 1]))              \n",
        "      log_pi = tf.squeeze(hlp.logsoftmax(pi)) \n",
        "      val_loss_5 = MoG(x, mu, K5, sigma, pi, log_pi, True, data, 250, 3) \n",
        "      \n",
        "      K10 = 10\n",
        "      x = tf.placeholder(\"float\", shape=[None, D])\n",
        "      mu = tf.Variable(tf.truncated_normal([K10,D]))\n",
        "      sigma = tf.exp(tf.Variable(tf.random_normal([K10, 1])))\n",
        "      pi = tf.Variable(tf.random_normal([K10, 1]))              \n",
        "      log_pi = tf.squeeze(hlp.logsoftmax(pi)) \n",
        "      val_loss_10 = MoG(x, mu, K10, sigma, pi, log_pi, True, data, 250, 3) \n",
        "      \n",
        "      K15 = 15\n",
        "      x = tf.placeholder(\"float\", shape=[None, D])\n",
        "      mu = tf.Variable(tf.truncated_normal([K15,D]))\n",
        "      sigma = tf.exp(tf.Variable(tf.random_normal([K15, 1])))\n",
        "      pi = tf.Variable(tf.random_normal([K15, 1]))              \n",
        "      log_pi = tf.squeeze(hlp.logsoftmax(pi)) \n",
        "      val_loss_15 = MoG(x, mu, K15, sigma, pi, log_pi, True, data, 250, 3)\n",
        "\n",
        "      K20 = 20\n",
        "      x = tf.placeholder(\"float\", shape=[None, D])\n",
        "      mu = tf.Variable(tf.truncated_normal([K20,D]))\n",
        "      sigma = tf.exp(tf.Variable(tf.random_normal([K20, 1])))\n",
        "      pi = tf.Variable(tf.random_normal([K20, 1]))              \n",
        "      log_pi = tf.squeeze(hlp.logsoftmax(pi)) \n",
        "      val_loss_20 = MoG(x, mu, K20, sigma, pi, log_pi, True, data, 250, 3)\n",
        "\n",
        "      K30 = 30\n",
        "      x = tf.placeholder(\"float\", shape=[None, D])\n",
        "      mu = tf.Variable(tf.truncated_normal([K30,D]))\n",
        "      sigma = tf.exp(tf.Variable(tf.random_normal([K30, 1])))\n",
        "      pi = tf.Variable(tf.random_normal([K30, 1]))              \n",
        "      log_pi = tf.squeeze(hlp.logsoftmax(pi)) \n",
        "      val_loss_30 = MoG(x, mu, K30, sigma, pi, log_pi, True, data, 250, 3)\n",
        "\n",
        "\n",
        "      plt.plot(range(len(val_loss_5)), val_loss_5, label=\"K = 5\")\n",
        "      plt.plot(range(len(val_loss_10)), val_loss_10, label=\"K = 10\")\n",
        "      plt.plot(range(len(val_loss_15)), val_loss_15, label=\"K = 15\")\n",
        "      plt.plot(range(len(val_loss_20)), val_loss_20, label=\"K = 20\")\n",
        "      plt.plot(range(len(val_loss_30)), val_loss_30, label=\"K = 30\")\n",
        "      plt.legend(loc=\"best\")\n",
        "      plt.title('Validation Loss for MoG vs. Number of updates - Dataset = data100D.npy')\n",
        "      plt.xlabel('Number of updates')\n",
        "      plt.ylabel('Validation Loss')\n",
        "      plt.grid()\n",
        "      plt.show()\n",
        "      "
      ],
      "metadata": {
        "colab": {
          "base_uri": "https://localhost:8080/",
          "height": 568
        },
        "id": "9wCEZLRkzM9Y",
        "outputId": "1e077dab-e32c-43b4-a679-2bdcc99efa69"
      },
      "execution_count": null,
      "outputs": [
        {
          "output_type": "stream",
          "name": "stdout",
          "text": [
            "K =  5 , Update #: 0 Loss value: 132083.1\n",
            "K =  5 , Update #: 100 Loss value: 45036.688\n",
            "K =  5 , Update #: 200 Loss value: 45022.61\n",
            "K =  10 , Update #: 0 Loss value: 221749.94\n",
            "K =  10 , Update #: 100 Loss value: 44818.215\n",
            "K =  10 , Update #: 200 Loss value: 44799.324\n",
            "K =  15 , Update #: 0 Loss value: 104561.266\n",
            "K =  15 , Update #: 100 Loss value: 45026.7\n",
            "K =  15 , Update #: 200 Loss value: 44613.746\n",
            "K =  20 , Update #: 0 Loss value: 179060.61\n",
            "K =  20 , Update #: 100 Loss value: 44639.668\n",
            "K =  20 , Update #: 200 Loss value: 44617.68\n",
            "K =  30 , Update #: 0 Loss value: 95369.94\n",
            "K =  30 , Update #: 100 Loss value: 45036.824\n",
            "K =  30 , Update #: 200 Loss value: 45021.992\n"
          ]
        },
        {
          "output_type": "display_data",
          "data": {
            "text/plain": [
              "<Figure size 432x288 with 1 Axes>"
            ],
            "image/png": "[encoded data removed]"
          },
          "metadata": {
            "needs_background": "light"
          }
        }
      ]
    },
    {
      "cell_type": "code",
      "source": [
        "print(\"final valid loss for K = 5 => \", val_loss_5[-1])\n",
        "print(\"final valid loss for K = 10 => \", val_loss_10[-1])\n",
        "print(\"final valid loss for K = 15 => \", val_loss_15[-1])\n",
        "print(\"final valid loss for K = 20 => \", val_loss_20[-1])\n",
        "print(\"final valid loss for K = 30 => \", val_loss_30[-1])"
      ],
      "metadata": {
        "colab": {
          "base_uri": "https://localhost:8080/"
        },
        "id": "hr2vOpL-HCt0",
        "outputId": "717bf3c7-3947-4d27-e7c3-d4d32856bd1a"
      },
      "execution_count": null,
      "outputs": [
        {
          "output_type": "stream",
          "name": "stdout",
          "text": [
            "final valid loss for K = 5 =>  22488.361\n",
            "final valid loss for K = 10 =>  22373.994\n",
            "final valid loss for K = 15 =>  22313.521\n",
            "final valid loss for K = 20 =>  22315.8\n",
            "final valid loss for K = 30 =>  22486.451\n"
          ]
        }
      ]
    }
  ]
}